{
  "nbformat": 4,
  "nbformat_minor": 0,
  "metadata": {
    "colab": {
      "name": "pyLog.ipynb",
      "provenance": [],
      "collapsed_sections": [],
      "authorship_tag": "ABX9TyP9598RnryPzHFvjoJF4ykz",
      "include_colab_link": true
    },
    "kernelspec": {
      "name": "python3",
      "display_name": "Python 3"
    },
    "language_info": {
      "name": "python"
    }
  },
  "cells": [
    {
      "cell_type": "markdown",
      "metadata": {
        "id": "view-in-github",
        "colab_type": "text"
      },
      "source": [
        "<a href=\"https://colab.research.google.com/github/pycriador/pyLog/blob/main/pyLog.ipynb\" target=\"_parent\"><img src=\"https://colab.research.google.com/assets/colab-badge.svg\" alt=\"Open In Colab\"/></a>"
      ]
    },
    {
      "cell_type": "markdown",
      "source": [
        "## Projeto de Maio\n",
        "\n",
        "Um programa simples criar logs e multiplos processos\n"
      ],
      "metadata": {
        "id": "w69tGmmc8Hit"
      }
    },
    {
      "cell_type": "code",
      "source": [
        "import logging\n",
        "import logging.handlers"
      ],
      "metadata": {
        "id": "PkE86oDp7U9u"
      },
      "execution_count": 2,
      "outputs": []
    },
    {
      "cell_type": "markdown",
      "source": [
        "Aqui você poderá definir o caminho do log, conforme a sua aplicação"
      ],
      "metadata": {
        "id": "NnJ8XDlQ9Nts"
      }
    },
    {
      "cell_type": "code",
      "source": [
        "#Log files\n",
        "debuglog = 'debug.log'\n",
        "errorlog = 'error.log'\n",
        "infolog = 'info.log'"
      ],
      "metadata": {
        "id": "marSZGcY7Wxd"
      },
      "execution_count": 4,
      "outputs": []
    },
    {
      "cell_type": "markdown",
      "source": [
        "Agora você pode criar um objeto para cada tipo de log.\n",
        "\n",
        "\n",
        "\n",
        "*   No getLogger, você pode escolher o nome do log\n",
        "*   No setLevel, você pode escolher o tipo de level do log\n",
        "*   No RotatingFileHandler, você pode escolher o tamanho máximo do log e quantos arquivos adicionais ele criará como backup\n",
        "*   No Formatter, você pode escolher o formato de output\n",
        "\n"
      ],
      "metadata": {
        "id": "-zehKE-J8WxM"
      }
    },
    {
      "cell_type": "code",
      "source": [
        "#Log's especificos\n",
        "logger_error = logging.getLogger('error')\n",
        "logger_error.setLevel(logging.ERROR)\n",
        "#fh = logging.FileHandler(errorlog)\n",
        "#maxBytes=20MBytes\n",
        "fh = logging.handlers.RotatingFileHandler(errorlog, maxBytes=20971520, backupCount=5)\n",
        "formatter = logging.Formatter('%(asctime)s %(name)-8s %(levelname)-8s %(message)s')\n",
        "fh.setFormatter(formatter)\n",
        "logger_error.addHandler(fh)\n",
        "\n",
        "logger_debug = logging.getLogger('debug')\n",
        "logger_debug.setLevel(logging.DEBUG)\n",
        "#fh = logging.FileHandler(errorlog)\n",
        "#maxBytes=20MBytes\n",
        "fh = logging.handlers.RotatingFileHandler(debuglog, maxBytes=20971520, backupCount=5)\n",
        "formatter = logging.Formatter('%(asctime)s %(name)-8s %(levelname)-8s %(message)s')\n",
        "fh.setFormatter(formatter)\n",
        "logger_debug.addHandler(fh)\n",
        "\n",
        "logger_info = logging.getLogger('info')\n",
        "logger_info.setLevel(logging.INFO)\n",
        "#fh = logging.FileHandler(errorlog)\n",
        "#maxBytes=20MBytes\n",
        "fh = logging.handlers.RotatingFileHandler(infolog, maxBytes=20971520, backupCount=5)\n",
        "formatter = logging.Formatter('%(asctime)s %(name)-8s %(levelname)-8s %(message)s')\n",
        "fh.setFormatter(formatter)\n",
        "logger_info.addHandler(fh)"
      ],
      "metadata": {
        "id": "lg2mLCNn7fUl"
      },
      "execution_count": 5,
      "outputs": []
    },
    {
      "cell_type": "markdown",
      "source": [
        "Agora é só soltar a criatividade para criar os seus logs personalizados"
      ],
      "metadata": {
        "id": "QJfFwk9x9Hct"
      }
    },
    {
      "cell_type": "code",
      "source": [
        "#Se quiser logar algum erro:\n",
        "logger_debug.debug('Informação de debug')\n",
        "logger_info.info('Informação de info')\n",
        "logger_error.error('Informação de erro')"
      ],
      "metadata": {
        "id": "lF7ZwAMF7uSk"
      },
      "execution_count": 6,
      "outputs": []
    },
    {
      "cell_type": "markdown",
      "source": [
        "## Função Multiprocessing"
      ],
      "metadata": {
        "id": "m03Xg5Hw9WNs"
      }
    },
    {
      "cell_type": "code",
      "source": [
        "import multiprocessing\n",
        "import os\n",
        "import time"
      ],
      "metadata": {
        "id": "O-BgDJTr9Vpk"
      },
      "execution_count": 7,
      "outputs": []
    },
    {
      "cell_type": "markdown",
      "source": [
        "Inspiração da função multiprocessing do meu projeto:\n",
        "\n",
        "[Git wjesus374](https://github.com/wjesus374/logscan/blob/master/logscan.py)\n",
        "\n",
        "Inspiração para o exemplo:\n",
        "\n",
        "[TowardsDatascience](https://towardsdatascience.com/multithreading-and-multiprocessing-in-10-minutes-20d9b3c6a867)"
      ],
      "metadata": {
        "id": "_X2REQjB-GYl"
      }
    },
    {
      "cell_type": "markdown",
      "source": [
        "Função simples de sleep, só para testar"
      ],
      "metadata": {
        "id": "FvCKmw7RKlpB"
      }
    },
    {
      "cell_type": "code",
      "source": [
        "from datetime import datetime\n",
        "import time\n",
        "\n",
        "data = datetime.now()\n",
        "data_completa = data.strftime(\"%m/%d/%Y, %H:%M:%S\")\n",
        "\n",
        "\n",
        "def tarefa(duracao, ntask):\n",
        "  print(f\"Processo iniciou em: {data_completa} com a duração de {duracao}s\")\n",
        "  time.sleep(duracao)\n",
        "  print(f\"A tarefa {ntask} ficou esperando por {duracao}s)!\")\n",
        "  print(f\"Process ID: {os.getpid()}\")\n",
        "  #Utilizando a função de log para logar os passos\n",
        "  logger_info.info(f\"A tarefa {ntask} ficou esperando por {duracao}s). ID {os.getpid()}\")"
      ],
      "metadata": {
        "id": "JZFCYme4-E1V"
      },
      "execution_count": 38,
      "outputs": []
    },
    {
      "cell_type": "markdown",
      "source": [
        "## Primeiro exemplo:\n",
        "\n",
        "2 processos que rodarão em paralelo com segundos aleatórios:"
      ],
      "metadata": {
        "id": "B1fuKn8NKqAA"
      }
    },
    {
      "cell_type": "code",
      "source": [
        "from random import seed\n",
        "from random import randint\n",
        "\n",
        "if __name__ == \"__main__\":\n",
        "  time_start = time.time()\n",
        "\n",
        "  # Criar 2 processos de 2 segundos\n",
        "  #p1 = multiprocessing.Process(target=tarefa, args=(2, 1))\n",
        "  #p2 = multiprocessing.Process(target=tarefa, args=(2, 2))\n",
        "\n",
        "  # Criar 2 processos com segundos aleatórios\n",
        "  x = (randint(1, 10))\n",
        "  y = (randint(1, 20))\n",
        "\n",
        "  p1 = multiprocessing.Process(target=tarefa, args=(x, \"Tarefa 1\"))\n",
        "  p2 = multiprocessing.Process(target=tarefa, args=(y, \"Tarefa 2\"))\n",
        "\n",
        "  # Executar tarefa\n",
        "  p1.start()\n",
        "  p2.start()\n",
        "\n",
        "  # Espera o processo finalizar\n",
        "  p1.join()\n",
        "  p2.join()\n",
        "\n",
        "  time_end = time.time()\n",
        "  print(f\"Tempo de execução: {round(time_end - time_start, 2)}s\")"
      ],
      "metadata": {
        "colab": {
          "base_uri": "https://localhost:8080/"
        },
        "id": "bykVJFZG_Um0",
        "outputId": "cc3b7401-ce85-47dc-a367-c49f7ba9fa9b"
      },
      "execution_count": 46,
      "outputs": [
        {
          "output_type": "stream",
          "name": "stdout",
          "text": [
            "Processo iniciou em: 06/02/2022, 01:55:32 com a duração de 7s\n",
            "Processo iniciou em: 06/02/2022, 01:55:32 com a duração de 6s\n",
            "A tarefa Tarefa 2 ficou esperando por 6s)!\n",
            "Process ID: 1579\n",
            "A tarefa Tarefa 1 ficou esperando por 7s)!\n",
            "Process ID: 1576\n",
            "Tempo de execução: 7.05s\n"
          ]
        }
      ]
    },
    {
      "cell_type": "markdown",
      "source": [
        "## Segundo exemplo:\n",
        "\n",
        "Podemos adicionar um pool de atividades para executar em pequenos lotes atividades especificas:"
      ],
      "metadata": {
        "id": "m2hkb33rAhlC"
      }
    },
    {
      "cell_type": "code",
      "source": [
        "print(\"Número de CPU : \", multiprocessing.cpu_count())\n",
        "\n",
        "if __name__ == \"__main__\":\n",
        "  time_start = time.time()\n",
        "\n",
        "  # Criar um pool com 5 atividades simultâneas\n",
        "  pool = multiprocessing.Pool(5)\n",
        "\n",
        "  # Mapeando um pool com 10 tarefas para processar\n",
        "  pool.starmap(func=tarefa, iterable=[(2, 1)] * 10)\n",
        "\n",
        "  # Aguardar enquanto as atividades finalizam\n",
        "  pool.close()\n",
        "\n",
        "  time_end = time.time()\n",
        "  print(f\"Tempo de execução: {round(time_end - time_start, 2)}s\")"
      ],
      "metadata": {
        "colab": {
          "base_uri": "https://localhost:8080/"
        },
        "id": "EYe1CHS-Aa1L",
        "outputId": "aaa43b55-ad67-44c9-9714-deb17b807e92"
      },
      "execution_count": 47,
      "outputs": [
        {
          "output_type": "stream",
          "name": "stdout",
          "text": [
            "Número de CPU :  2\n",
            "Processo iniciou em: 06/02/2022, 01:55:32 com a duração de 2s\n",
            "Processo iniciou em: 06/02/2022, 01:55:32 com a duração de 2s\n",
            "Processo iniciou em: 06/02/2022, 01:55:32 com a duração de 2s\n",
            "Processo iniciou em: 06/02/2022, 01:55:32 com a duração de 2s\n",
            "Processo iniciou em: 06/02/2022, 01:55:32 com a duração de 2s\n",
            "A tarefa 1 ficou esperando por 2s)!\n",
            "Process ID: 1593\n",
            "A tarefa 1 ficou esperando por 2s)!\n",
            "Process ID: 1592\n",
            "Processo iniciou em: 06/02/2022, 01:55:32 com a duração de 2s\n",
            "Processo iniciou em: 06/02/2022, 01:55:32 com a duração de 2s\n",
            "A tarefa 1 ficou esperando por 2s)!\n",
            "A tarefa 1 ficou esperando por 2s)!\n",
            "Process ID: 1595\n",
            "Processo iniciou em: 06/02/2022, 01:55:32 com a duração de 2s\n",
            "Process ID: 1596\n",
            "A tarefa 1 ficou esperando por 2s)!\n",
            "Processo iniciou em: 06/02/2022, 01:55:32 com a duração de 2s\n",
            "Process ID: 1594\n",
            "Processo iniciou em: 06/02/2022, 01:55:32 com a duração de 2s\n",
            "A tarefa 1 ficou esperando por 2s)!\n",
            "A tarefa 1 ficou esperando por 2s)!\n",
            "Process ID: 1592\n",
            "Process ID: 1593\n",
            "A tarefa 1 ficou esperando por 2s)!\n",
            "Process ID: 1595\n",
            "A tarefa 1 ficou esperando por 2s)!\n",
            "Process ID: 1594\n",
            "A tarefa 1 ficou esperando por 2s)!\n",
            "Process ID: 1596\n",
            "Tempo de execução: 4.12s\n"
          ]
        }
      ]
    },
    {
      "cell_type": "markdown",
      "source": [
        "Criando um pool de 8 tarefas, 4 tarefas de 2 segundos e 4 tarefas de 5 segundos:"
      ],
      "metadata": {
        "id": "6rEz0y6MLFvp"
      }
    },
    {
      "cell_type": "code",
      "source": [
        "print(\"Número de CPU's : \", multiprocessing.cpu_count())\n",
        "\n",
        "if __name__ == \"__main__\":\n",
        "  time_start = time.time()\n",
        "\n",
        "  # Criar um pool com 8 atividades simultâneas\n",
        "  pool = multiprocessing.Pool(8)\n",
        "\n",
        "  # Mapeando um pool com 8 tarefas para processar\n",
        "  # A primeira tarefa para executar em 2 segundos\n",
        "  # A segunda tarefa para executar em 5 segundos\n",
        "  pool.starmap(func=tarefa, iterable=[(2, 'Tarefa A'), (5, 'Tarefa B')] * 4)\n",
        "\n",
        "  # Aguardar enquanto as atividades finalizam\n",
        "  pool.close()\n",
        "\n",
        "  time_end = time.time()\n",
        "  print(f\"Tempo de execução: {round(time_end - time_start, 2)}s\")"
      ],
      "metadata": {
        "colab": {
          "base_uri": "https://localhost:8080/"
        },
        "id": "8d40kdvuJVrJ",
        "outputId": "886a2865-2e89-4f12-9860-50387eba311d"
      },
      "execution_count": 48,
      "outputs": [
        {
          "output_type": "stream",
          "name": "stdout",
          "text": [
            "Número de CPU's :  2\n",
            "Processo iniciou em: 06/02/2022, 01:55:32 com a duração de 5s\n",
            "Processo iniciou em: 06/02/2022, 01:55:32 com a duração de 2s\n",
            "Processo iniciou em: 06/02/2022, 01:55:32 com a duração de 5s\n",
            "Processo iniciou em: 06/02/2022, 01:55:32 com a duração de 5s\n",
            "Processo iniciou em: 06/02/2022, 01:55:32 com a duração de 2s\n",
            "Processo iniciou em: 06/02/2022, 01:55:32 com a duração de 5s\n",
            "Processo iniciou em: 06/02/2022, 01:55:32 com a duração de 2s\n",
            "Processo iniciou em: 06/02/2022, 01:55:32 com a duração de 2s\n",
            "A tarefa Tarefa A ficou esperando por 2s)!\n",
            "Process ID: 1662\n",
            "A tarefa Tarefa A ficou esperando por 2s)!\n",
            "Process ID: 1666\n",
            "A tarefa Tarefa A ficou esperando por 2s)!\n",
            "A tarefa Tarefa A ficou esperando por 2s)!\n",
            "Process ID: 1660\n",
            "Process ID: 1664\n",
            "A tarefa Tarefa B ficou esperando por 5s)!\n",
            "Process ID: 1661\n",
            "A tarefa Tarefa B ficou esperando por 5s)!\n",
            "Process ID: 1663\n",
            "A tarefa Tarefa B ficou esperando por 5s)!\n",
            "A tarefa Tarefa B ficou esperando por 5s)!\n",
            "Process ID: 1665\n",
            "Process ID: 1667\n",
            "Tempo de execução: 5.13s\n"
          ]
        }
      ]
    }
  ]
}